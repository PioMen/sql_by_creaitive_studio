{
 "cells": [
  {
   "cell_type": "code",
   "execution_count": 1,
   "metadata": {},
   "outputs": [],
   "source": [
    "# !pip install Faker"
   ]
  },
  {
   "cell_type": "code",
   "execution_count": 2,
   "metadata": {},
   "outputs": [],
   "source": [
    "import pandas as pd\n",
    "import random\n",
    "\n",
    "from faker import Faker\n",
    "fake = Faker()\n",
    "Faker.seed(4321)"
   ]
  },
  {
   "cell_type": "markdown",
   "metadata": {},
   "source": [
    "# Users"
   ]
  },
  {
   "cell_type": "code",
   "execution_count": 3,
   "metadata": {},
   "outputs": [],
   "source": [
    "# n_rows = 10213\n",
    "\n",
    "# customer_ids = random.sample(range(100000001, 999999999), n_rows)\n",
    "# mail_domains = [fake.profile()['mail'].split('@')[-1] for _ in range(0, n_rows)]\n",
    "\n",
    "# list_customers = []\n",
    "# for _ in range(n_rows):\n",
    "#     current_profile = fake.profile()\n",
    "#     current_row = {\n",
    "#         'user_id': customer_ids.pop(),\n",
    "#         'first_name': current_profile['name'].split(' ')[0],\n",
    "#         'last_name': current_profile['name'].split(' ')[1],\n",
    "#         'is_active': random.choices(population=[True, False], weights=[0.97, 0.03])[0],\n",
    "#         'status': random.choices(population=[None, 'VIP', 'Platinum'], weights=[0.9, 0.07, 0.03])[0],\n",
    "#         'sex': current_profile['sex'],\n",
    "#         'birthdate': fake.date_between(start_date='-67y', end_date='-16y'),\n",
    "#         'created_date': fake.date_between(start_date='-3y', end_date='today'),\n",
    "#         'newsletter_consent': random.choices(population=[True, False], weights=[0.27, 0.73])[0],\n",
    "#         'email': '.'.join(current_profile['name'].lower().split(' ')) + '@' + mail_domains[random.randint(0, n_rows-1)],\n",
    "#         'address': current_profile['address']\n",
    "#     }\n",
    "#     list_customers.append(current_row)\n",
    "    \n",
    "# df_customers = pd.DataFrame(list_customers)\n",
    "# df_customers.to_csv('./output/users.csv', index=False)"
   ]
  },
  {
   "cell_type": "markdown",
   "metadata": {},
   "source": [
    "# Order details"
   ]
  },
  {
   "cell_type": "code",
   "execution_count": 125,
   "metadata": {},
   "outputs": [],
   "source": [
    "# n_rows = 145000\n",
    "\n",
    "# order_id = 1\n",
    "# position_id = 1\n",
    "# product_ids = range(87)\n",
    "# product_ids_prices = {product_id: round(random.uniform(5.0, 20.0), 2) for product_id in product_ids}\n",
    "\n",
    "# list_orders = []\n",
    "# for _ in range(n_rows):\n",
    "#     product_id = random.choice(product_ids)\n",
    "    \n",
    "#     current_profile = fake.profile()\n",
    "#     current_row = {\n",
    "#         'order_id': order_id,\n",
    "#         'product_id': product_id,\n",
    "#         'quantity': random.choices(population=[1, 2, 3], weights=[0.6, 0.3, 0.1])[0] if random.randrange(0, 11) != 1 else random.randrange(4, 30),\n",
    "#         'price_net': product_ids_prices[product_id],\n",
    "#         'amount_tax': round(product_ids_prices[product_id] * 0.21, 2),\n",
    "#         'price_gross': round(product_ids_prices[product_id] * 1.21, 2),\n",
    "#     }\n",
    "#     list_orders.append(current_row)\n",
    "    \n",
    "#     order_id += random.choices(population=[0, 1], weights=[0.1, 0.9])[0]\n",
    "    \n",
    "# df_order_positions = pd.DataFrame(list_orders)\n",
    "# df_order_positions['position_num'] = df_order_positions.groupby('order_id')['product_id'].rank(method='dense')\n",
    "# df_order_positions = df_order_positions['order_id', 'position_num', 'product_id', 'quantity', 'price_net', 'amount_tax', 'price_gross']\n",
    "\n",
    "# df_order_positions.to_csv('./output/order_positions.csv', index=False)"
   ]
  },
  {
   "cell_type": "markdown",
   "metadata": {},
   "source": [
    "# Orders"
   ]
  },
  {
   "cell_type": "code",
   "execution_count": 149,
   "metadata": {},
   "outputs": [],
   "source": [
    "# df_orders = df_order_positions.copy()\n",
    "\n",
    "# df_orders = (\n",
    "#     df_orders\n",
    "#     .groupby('order_id', as_index=False)\n",
    "#     .agg(\n",
    "#         amount_net=('price_net', 'sum'),\n",
    "#         amount_tax=('amount_tax', 'sum'),\n",
    "#         amount_gross=('price_gross', 'sum'),\n",
    "#     )\n",
    "# )\n",
    "\n",
    "# order_dates = sorted([fake.date_between(start_date='-3y', end_date='today') for tran in range(df_orders['order_id'].nunique())])\n",
    "# df_orders['order_date'] = order_dates\n",
    "\n",
    "# df_orders['payment_delay'] = [\n",
    "#     random.choices(population=[1, 2, 3, 4, 5, 6, 7], weights=[0.05, 0.08, 0.09, 0.13, 0.15, 0.2, 0.3])[0]\n",
    "#     if random.randrange(0, 11) != 1\n",
    "#     else random.randrange(7, 60)\n",
    "#     for tran in range(df_orders['order_id'].nunique())\n",
    "# ]\n",
    "\n",
    "# df_orders['payment_date'] = df_orders.apply(lambda row: row['order_date'] + pd.DateOffset(days=row['payment_delay']), axis=1)\n",
    "# df_orders['payment_id'] = df_orders['payment_date'].rank(method='first')\n",
    "\n",
    "# df_orders['buyer_id'] = df_orders['order_id'].map(lambda x: df_customers['user_id'].sample().values[0])\n",
    "\n",
    "# df_orders_to_save = df_orders[['order_id', 'order_date', 'payment_id', 'amount_net', 'amount_tax', 'amount_gross', 'buyer_id', 'seller_id']]\n",
    "# df_orders_to_save.to_csv('./output/orders.csv', index=False)"
   ]
  },
  {
   "cell_type": "markdown",
   "metadata": {},
   "source": [
    "# Payments"
   ]
  },
  {
   "cell_type": "code",
   "execution_count": 224,
   "metadata": {},
   "outputs": [],
   "source": [
    "# df_payments = pd.merge(\n",
    "#     df_orders,\n",
    "#     df_customers[['user_id', 'first_name', 'last_name']].rename(columns={'first_name': 'buyer_first_name', 'last_name': 'buyer_last_name'}),\n",
    "#     left_on='buyer_id',\n",
    "#     right_on='user_id'\n",
    "# )\n",
    "\n",
    "# df_payments['amount'] = df_payments['amount_gross']\n",
    "# df_payments['sender'] = df_payments.apply(lambda row: row['buyer_first_name'] + row['buyer_last_name'], axis=1)\n",
    "# df_payments['title'] = df_payments.apply(lambda row: 'transaction no:' + ' ' +str(row['order_id']), axis=1)\n",
    "# # df_payments['recipient'] = 'MISTIC CORP'\n",
    "\n",
    "# df_payments_to_save = df_payments[['payment_id', 'payment_date', 'title', 'amount', 'sender']]\n",
    "# df_payments_to_save.to_csv('./output/payments.csv', index=False)"
   ]
  },
  {
   "cell_type": "code",
   "execution_count": 225,
   "metadata": {},
   "outputs": [
    {
     "data": {
      "text/html": [
       "<div>\n",
       "<style scoped>\n",
       "    .dataframe tbody tr th:only-of-type {\n",
       "        vertical-align: middle;\n",
       "    }\n",
       "\n",
       "    .dataframe tbody tr th {\n",
       "        vertical-align: top;\n",
       "    }\n",
       "\n",
       "    .dataframe thead th {\n",
       "        text-align: right;\n",
       "    }\n",
       "</style>\n",
       "<table border=\"1\" class=\"dataframe\">\n",
       "  <thead>\n",
       "    <tr style=\"text-align: right;\">\n",
       "      <th></th>\n",
       "      <th>payment_id</th>\n",
       "      <th>payment_date</th>\n",
       "      <th>title</th>\n",
       "      <th>amount</th>\n",
       "      <th>sender</th>\n",
       "    </tr>\n",
       "  </thead>\n",
       "  <tbody>\n",
       "    <tr>\n",
       "      <th>0</th>\n",
       "      <td>3910.0</td>\n",
       "      <td>2019-06-30</td>\n",
       "      <td>transaction no: 1</td>\n",
       "      <td>18.21</td>\n",
       "      <td>FrankOrtega</td>\n",
       "    </tr>\n",
       "    <tr>\n",
       "      <th>1</th>\n",
       "      <td>32034.0</td>\n",
       "      <td>2020-02-19</td>\n",
       "      <td>transaction no: 32361</td>\n",
       "      <td>11.85</td>\n",
       "      <td>FrankOrtega</td>\n",
       "    </tr>\n",
       "    <tr>\n",
       "      <th>2</th>\n",
       "      <td>36358.0</td>\n",
       "      <td>2020-03-27</td>\n",
       "      <td>transaction no: 36413</td>\n",
       "      <td>17.42</td>\n",
       "      <td>FrankOrtega</td>\n",
       "    </tr>\n",
       "    <tr>\n",
       "      <th>3</th>\n",
       "      <td>44930.0</td>\n",
       "      <td>2020-06-08</td>\n",
       "      <td>transaction no: 45151</td>\n",
       "      <td>8.12</td>\n",
       "      <td>FrankOrtega</td>\n",
       "    </tr>\n",
       "    <tr>\n",
       "      <th>4</th>\n",
       "      <td>49960.0</td>\n",
       "      <td>2020-07-21</td>\n",
       "      <td>transaction no: 50174</td>\n",
       "      <td>26.31</td>\n",
       "      <td>FrankOrtega</td>\n",
       "    </tr>\n",
       "  </tbody>\n",
       "</table>\n",
       "</div>"
      ],
      "text/plain": [
       "   payment_id payment_date                  title  amount       sender\n",
       "0      3910.0   2019-06-30      transaction no: 1   18.21  FrankOrtega\n",
       "1     32034.0   2020-02-19  transaction no: 32361   11.85  FrankOrtega\n",
       "2     36358.0   2020-03-27  transaction no: 36413   17.42  FrankOrtega\n",
       "3     44930.0   2020-06-08  transaction no: 45151    8.12  FrankOrtega\n",
       "4     49960.0   2020-07-21  transaction no: 50174   26.31  FrankOrtega"
      ]
     },
     "execution_count": 225,
     "metadata": {},
     "output_type": "execute_result"
    }
   ],
   "source": [
    "df_payments_to_save.head()"
   ]
  },
  {
   "cell_type": "code",
   "execution_count": 226,
   "metadata": {},
   "outputs": [
    {
     "name": "stdout",
     "output_type": "stream",
     "text": [
      "<class 'pandas.core.frame.DataFrame'>\n",
      "Int64Index: 130593 entries, 0 to 130592\n",
      "Data columns (total 5 columns):\n",
      " #   Column        Non-Null Count   Dtype         \n",
      "---  ------        --------------   -----         \n",
      " 0   payment_id    130593 non-null  float64       \n",
      " 1   payment_date  130593 non-null  datetime64[ns]\n",
      " 2   title         130593 non-null  object        \n",
      " 3   amount        130593 non-null  float64       \n",
      " 4   sender        130593 non-null  object        \n",
      "dtypes: datetime64[ns](1), float64(2), object(2)\n",
      "memory usage: 6.0+ MB\n"
     ]
    }
   ],
   "source": [
    "df_payments_to_save.info()"
   ]
  }
 ],
 "metadata": {
  "kernelspec": {
   "display_name": "Python 3",
   "language": "python",
   "name": "python3"
  },
  "language_info": {
   "codemirror_mode": {
    "name": "ipython",
    "version": 3
   },
   "file_extension": ".py",
   "mimetype": "text/x-python",
   "name": "python",
   "nbconvert_exporter": "python",
   "pygments_lexer": "ipython3",
   "version": "3.8.5"
  }
 },
 "nbformat": 4,
 "nbformat_minor": 4
}
