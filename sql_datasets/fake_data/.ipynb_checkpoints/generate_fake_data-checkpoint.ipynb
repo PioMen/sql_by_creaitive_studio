{
 "cells": [
  {
   "cell_type": "code",
   "execution_count": 1,
   "metadata": {},
   "outputs": [],
   "source": [
    "# pip install Faker"
   ]
  },
  {
   "cell_type": "code",
   "execution_count": 2,
   "metadata": {},
   "outputs": [],
   "source": [
    "import pandas as pd\n",
    "import random\n",
    "\n",
    "from faker import Faker\n",
    "fake = Faker()\n",
    "Faker.seed(4321)"
   ]
  },
  {
   "cell_type": "code",
   "execution_count": null,
   "metadata": {},
   "outputs": [],
   "source": [
    "n_rows = 10213\n",
    "\n",
    "customer_ids = random.sample(range(100000001, 999999999), n_rows)\n",
    "mail_domains = [fake.profile()['mail'].split('@')[-1] for _ in range(0, n_rows)]\n",
    "\n",
    "list_customers = []\n",
    "for _ in range(n_rows):\n",
    "    current_profile = fake.profile()\n",
    "    current_row = {\n",
    "        'user_id': customer_ids.pop(),\n",
    "        'first_name': current_profile['name'].split(' ')[0],\n",
    "        'last_name': current_profile['name'].split(' ')[1],\n",
    "        'is_active': random.choices(population=[True, False], weights=[0.97, 0.03])[0],\n",
    "        'status': random.choices(population=[None, 'VIP', 'Platinum'], weights=[0.9, 0.07, 0.03])[0],\n",
    "        'sex': current_profile['sex'],\n",
    "        'birthdate': fake.date_between(start_date='-67y', end_date='-16y'),\n",
    "        'created_date': fake.date_between(start_date='-3y', end_date='today'),\n",
    "        'newsletter_consent': random.choices(population=[True, False], weights=[0.27, 0.73])[0],\n",
    "        'email': '.'.join(current_profile['name'].lower().split(' ')) + '@' + mail_domains[random.randint(0, n_rows-1)],\n",
    "        'address': current_profile['address']\n",
    "    }\n",
    "    list_customers.append(current_row)\n",
    "    \n",
    "df_customers = pd.DataFrame(list_customers)\n",
    "df_customers.to_csv('./output/users.csv', index=False)"
   ]
  },
  {
   "cell_type": "code",
   "execution_count": null,
   "metadata": {},
   "outputs": [],
   "source": []
  },
  {
   "cell_type": "code",
   "execution_count": null,
   "metadata": {},
   "outputs": [],
   "source": []
  },
  {
   "cell_type": "code",
   "execution_count": null,
   "metadata": {},
   "outputs": [],
   "source": []
  }
 ],
 "metadata": {
  "kernelspec": {
   "display_name": "Python 3",
   "language": "python",
   "name": "python3"
  },
  "language_info": {
   "codemirror_mode": {
    "name": "ipython",
    "version": 3
   },
   "file_extension": ".py",
   "mimetype": "text/x-python",
   "name": "python",
   "nbconvert_exporter": "python",
   "pygments_lexer": "ipython3",
   "version": "3.8.5"
  }
 },
 "nbformat": 4,
 "nbformat_minor": 4
}
