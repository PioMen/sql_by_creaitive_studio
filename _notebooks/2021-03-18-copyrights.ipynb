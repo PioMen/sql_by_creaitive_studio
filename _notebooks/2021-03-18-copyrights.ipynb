{
 "cells": [
  {
   "cell_type": "markdown",
   "metadata": {},
   "source": [
    "# \"Copyrights\"\n",
    "> \"Credits for all the great work of others\"\n",
    "\n",
    "- toc: false \n",
    "- badges: false\n",
    "- comments: false\n",
    "- categories: [sql] \n",
    "- image: images/chart-preview.png"
   ]
  },
  {
   "cell_type": "markdown",
   "metadata": {},
   "source": [
    "Below you can find links to all the resources used when working on this book."
   ]
  },
  {
   "cell_type": "markdown",
   "metadata": {},
   "source": [
    "| item | source | authors | licence |\n",
    "| --- | --- | --- | --- |\n",
    "| Data on COVID-19 vaccinations shared by Our World in Data | [link](https://github.com/owid/covid-19-data/tree/master/public/data) | [link](https://github.com/owid/covid-19-data/tree/master/public/data#authors) | [link](https://github.com/owid/covid-19-data/tree/master/public/data#license) |"
   ]
  }
 ],
 "metadata": {
  "kernelspec": {
   "display_name": "Python 3",
   "language": "python",
   "name": "python3"
  },
  "language_info": {
   "codemirror_mode": {
    "name": "ipython",
    "version": 3
   },
   "file_extension": ".py",
   "mimetype": "text/x-python",
   "name": "python",
   "nbconvert_exporter": "python",
   "pygments_lexer": "ipython3",
   "version": "3.8.5"
  }
 },
 "nbformat": 4,
 "nbformat_minor": 4
}
