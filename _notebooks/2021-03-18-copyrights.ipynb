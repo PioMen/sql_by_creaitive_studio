{
 "cells": [
  {
   "cell_type": "markdown",
   "metadata": {},
   "source": [
    "| item | source | authors | licence |\n",
    "| --- | --- | --- | --- |\n",
    "| Data on COVID-19 vaccinations shared by Our World in Data | [link](https://github.com/owid/covid-19-data/tree/master/public/data) | [link](https://github.com/owid/covid-19-data/tree/master/public/data#authors) | [link](https://github.com/owid/covid-19-data/tree/master/public/data#license) |"
   ]
  }
 ],
 "metadata": {
  "kernelspec": {
   "display_name": "Python 3",
   "language": "python",
   "name": "python3"
  },
  "language_info": {
   "codemirror_mode": {
    "name": "ipython",
    "version": 3
   },
   "file_extension": ".py",
   "mimetype": "text/x-python",
   "name": "python",
   "nbconvert_exporter": "python",
   "pygments_lexer": "ipython3",
   "version": "3.8.5"
  }
 },
 "nbformat": 4,
 "nbformat_minor": 4
}
