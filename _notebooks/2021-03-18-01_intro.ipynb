{
 "cells": [
  {
   "cell_type": "markdown",
   "metadata": {},
   "source": [
    "# \"SQL for Analysts - Getting started\"\n",
    "> \"See yourself how fun SQL can be!\"\n",
    "\n",
    "- toc: true \n",
    "- badges: false\n",
    "- comments: false\n",
    "- categories: [sql] \n",
    "- image: images/chart-preview.png"
   ]
  },
  {
   "cell_type": "markdown",
   "metadata": {},
   "source": [
    "```TODO: new dataset, report, sql - more business oriented and a bit more complex (two tables at least)```\n",
    "\n",
    "```TODO: sqlite for python: run code and show results from db (pobierz dataset curlem??)```\n",
    "\n",
    "```TODO: split Important / Tip / Note + formatting```\n",
    "\n",
    "```TODO: how to deal with links in the printed version??```\n",
    "\n",
    "```TODO: schemas, diagram to make it more pleasant to read```\n",
    "\n",
    "```TODO: screenshots OR GIFS for instruction```\n",
    "\n",
    "```TODO: align naming of csv/.csv/... files```\n",
    "\n",
    "```TODO: make sure that I use word database correctly - if we have multiple databases it's probably a warehouse```"
   ]
  },
  {
   "cell_type": "markdown",
   "metadata": {},
   "source": [
    "## Getting started"
   ]
  },
  {
   "cell_type": "markdown",
   "metadata": {},
   "source": [
    "```give it a way: learning manifesto and abstract away```\n",
    "\n",
    "There are plenty of great materials out there that will give you a full introduction and historical context to the subject of SQL, before moving to practice. In this book, we take a slightly different approach. I will try to give you an amount of information that is \"just right\" to get a rough understanding of the subject and start practicing. This approach has many benefits. One of them is that you will find out very soon if SQL is difficult and fun for YOU.\n",
    "\n",
    "> Tip: If you prefer to learn the more \"traditional\" way, \"SQL for Mere Mortals\" by John Viescas and Michael J. Hernandez (```TODO: add link```) is an amazing book that I can highly recommend.\n",
    "\n",
    "To give you an idea about what you may expect in this chapter, let me show you a plan that we will follow. First, I'll give you an example of the analytical project that was built using SQL. Then, you will go behind the curtain to get a step by step guide to recreate it on your own. At every step of the process, I will provide you with enough details to fully understand what you're doing.\n",
    "\n",
    "```TODO: be more explicit about benefits of this approach```\n",
    "\n",
    "```TODO: what does it mean that sql is a declarative language;\n",
    "It's a declarative language, which means that you use it to describe what you want to achieve, not all the underlying operations. The difference is real. It's like sketching your dream house on a piece of paper vs creating a fully fledged construction project on your own.```\n",
    "\n",
    "```TODO: LEGO analogy - a graphic with lego bricks called \"select\", \"from\", \"join\", etc. You can build almost any house combining them, you won't build a car. Bricks in order to show execution order. Imagine that you have an almost infinite supply of 10 types of bricks. These are not random bricks. They were carefully selected by very smart people. Now, if you combine them properly, you can build almost anything you can imagine. To learn SQL, you need to master the fundamental clauses and learn how to combine them. The proces of writing SQL queries always reminds me of a Lego bricks.  That's how I feel when I write SQL code.```\n",
    "\n",
    "```TODO: bugs when working with data - not only technical, but also the logic```\n",
    "\n",
    "``` TODO: this section is more about working with data in general:\n",
    "Bonus: **Sweetspot between IT and business**\n",
    "There is a group of people who like coding but could not imagine themself doing that all day long. Working with data allows you to find a role that will require both coding and solving business problems. \n",
    "PS. If you actually are into hardcore coding marathons, you should be able to find something for yourself too. ```\n",
    "\n",
    "``` Bonus: **SQL vs spreadsheets** If you are coming from a spreadsheet world, you probably wonder how does working with SQL compare to working with spreadsheets. The main benefit is that SQL is much better at providing consistency. Have you ever failed to update your formula when refreshing your report? That will not happen with SQL. You design your logic and keep it in a sql script that will work exactly the same each and every time. It's like you took all of your knowledge about what you need to do and wrote it down in a file. You don't need to do every step yourself. You dramatically reduce the risk of a human error.```\n",
    "\n",
    "```TODO: tip: names of the tables and \"_\"```"
   ]
  },
  {
   "cell_type": "markdown",
   "metadata": {},
   "source": [
    "### What is a database?"
   ]
  },
  {
   "cell_type": "markdown",
   "metadata": {},
   "source": [
    "If you're just getting started a word \"database\" can seem quite overwhelming. If you give it a try though, it's not that difficult to understand why people have developed such thing and why they've become so popular.\n",
    "\n",
    "In plain words, a database is *an organized collection of information*. Notice, that at this point, there is no mention of computers at all. The simplest database can be *really* simple. Only two pieces are required:\n",
    "- some information and\n",
    "- some *organized* way to store it. \n",
    "\n",
    ">Tip: What's the simplest example of a database that comes to your mind? Think about it for two minutes before reading on.\n",
    "\n",
    "The very basic database can be as simple as a shopping list. It stores information about things that you want to buy. A slightly more complex examples would be a patient card, a phone book or a home budget. If you think about it, databases are everywhere.\n",
    "\n",
    "A very basic database, like a shopping list, could be stored on something as simple as a piece of paper. A phone book, which is slightly more complex, would require, well, lots of pages :sunglasses: For a home budget, a spreadsheet could be a wise choice. You can feel that there is some kind of a relationship here. *The more data you have, the more advanced tool you need*.\n",
    "\n",
    "If you think about companies, they store much more data that you ever could. Even a small, traditional business like a physical store, needs to keep track of all the transactions, supplies, bank accounts, employees, salaries and the list goes on.\n",
    "\n",
    "Dealing with such amounts of data is a difficult task. That's why people had to invent a way to do that. Nowadays this knowledge is built into *database systems*, tools designed specifically for this task. In practice, people often call such systems *databases*. That's what they usually mean when they say this word.\n",
    "\n",
    ">Tip: Database system (often referred to as a *database*) is a piece of software developed precisely to store and manage data on computers.\n",
    "\n",
    "There are many database solutions on the market. Some of them are free, while the other require some kind of payment. A good very good thing is that most of them:\n",
    "- look familiar when you start using them and \n",
    "- support SQL as the main way to work with data."
   ]
  },
  {
   "cell_type": "markdown",
   "metadata": {},
   "source": [
    "### What kind of data is stored in a database? TODO: add to previous point"
   ]
  },
  {
   "cell_type": "markdown",
   "metadata": {},
   "source": [
    "The kind of data stored in a database depends heavily on the organization. For example a university will store different information than online store. The first one will most likely keep the records of students, teachers, courses, grades, rooms and so on. The online store will be more focused on things like customers, transactions, web traffic, marketing campaigns, etc. In general, every data point that is important for given organization, should have its place in a database."
   ]
  },
  {
   "cell_type": "markdown",
   "metadata": {},
   "source": [
    "### What's a table?"
   ]
  },
  {
   "cell_type": "markdown",
   "metadata": {},
   "source": [
    "Although there are plenty of different database system out there, from the end user perspective most of them seem pretty similar. That's because they all use *tables* to organize data. If you take a look inside a database system, that's what you are most likely to see: a collection of tables.\n",
    "\n",
    ">Tip: A good news for you is that if you learn to move around in one database system, you will be able to easily switch to another one if needed.\n",
    "\n",
    "Tables are used to store data. Each table is usually focused around one type of items. These can be things like physical objects (goods in stock, rooms in a building), events (purchases, clicks on a website), people (customers, employees) or some intangible concepts (salaries, exchange rates).\n",
    "\n",
    "```TODO: a table with organization types and sample items stored```\n",
    "\n",
    "For example, a database of an online store could contain following tables:\n",
    "- transactions,\n",
    "- customers,\n",
    "- page_views,\n",
    "- marketing_campaigns.\n",
    "\n",
    "You can expect that a table related to a given type of items, contains data about these items. For example, a \"transactions\" table will host characteristics of every sale made by a company. Similarly, a table related to \"customers\" will store all the relevant information about the clients."
   ]
  },
  {
   "cell_type": "markdown",
   "metadata": {},
   "source": [
    "### What a table is built of?"
   ]
  },
  {
   "cell_type": "markdown",
   "metadata": {},
   "source": [
    "Each table in a database is built of two main components, rows and columns.\n",
    "\n",
    "```TODO: a look inside an actual table - with columns highlighted```"
   ]
  },
  {
   "cell_type": "markdown",
   "metadata": {},
   "source": [
    "### What's a row?"
   ]
  },
  {
   "cell_type": "markdown",
   "metadata": {},
   "source": [
    "Rows represent individual items stored in a table. For example a \"transaction\" table could have a separate row for each transaction while an \"employees\" table might keep a separate entry for each employee. Each course tought at university, would have it's own record too. You get the idea :wink: "
   ]
  },
  {
   "cell_type": "markdown",
   "metadata": {},
   "source": [
    "### What's a column?"
   ]
  },
  {
   "cell_type": "markdown",
   "metadata": {},
   "source": [
    "Columns are used to keep information about characteristics of different items stored in a table. Almost every item imaginable has some features. For example, a transaction can be described using: unique id, date, price, article, seller, buyer, shipment and so on. All these pieces of information are usually stored in columns."
   ]
  },
  {
   "cell_type": "markdown",
   "metadata": {},
   "source": [
    "### What is a SQL?"
   ]
  },
  {
   "cell_type": "markdown",
   "metadata": {},
   "source": [
    "SQL is a language that allows you to interact with data inside a database. You can use it to display, modify, and delete data. It supports many operations, like aggregating, filtering, sorting and joning data. You use it by writing instructions which are often called statements."
   ]
  },
  {
   "cell_type": "markdown",
   "metadata": {},
   "source": [
    "### What does it mean that SQL is a declarative language?"
   ]
  },
  {
   "cell_type": "markdown",
   "metadata": {},
   "source": [
    "SQL is a declarative language, which means that you use it by describing *what* you want to achieve, not *how* exactly you want to do that. You don't need to specify all the low-lewel operations to get the desired result. You just describe the final outcome and database figures out the rest for you. You may be surprised that knowledge of some basic English words can be nearly enough to understand simple SQL queries."
   ]
  },
  {
   "cell_type": "markdown",
   "metadata": {},
   "source": [
    "### Why should I learn SQL?"
   ]
  },
  {
   "cell_type": "markdown",
   "metadata": {},
   "source": [
    "SQL is a great piece of technology. You may be wondering though if it's the right tool for you. I'll give you five reasons why I think you will love SQL.\n",
    "\n",
    "**1. Popular**\n",
    "SQL is one of the most popular tools used to work with data. Almost any company uses some kind of a database and vast majority of them support SQL. Many job postings for data-related roles, especially in analytics, mention SQL as one of the key skills to have. SQL can be a very valuable addition to your skillset.\n",
    "\n",
    "**2. Powerfull**\n",
    "SQL has become a de facto standard in a data world. It's not only used in a classical, relational databases but also in big data and even streaming solutions. It means that you can use it to work with all kinds of datasets, from hundreds, to even billions of rows. Learning SQL can make you very capable in a data world.\n",
    "\n",
    "**3. Easy to learn**\n",
    "Unlike many other languages, SQL has a very compact syntax. You can perform most of the common operations after  learning a dozen or so of the most fundamental commands and combining them in a proper way. It's like building your code using a lego-like blocks. It makes the learning process very friendly and enjoyable.\n",
    "\n",
    "**4. Great starting point**\n",
    "If you have no prior coding experience, SQL is a great place to start. With a gentle learning curve it allows you to find out very quickly if you enjoy writing code. The learning itself is also very satysfying. You write code and results pop up on your screen almost immediately. It doesn't take long for your skills to become useful. A couple of weeks is sufficient to start using SQL in practice.\n",
    "\n",
    "These are the main benefits of SQL that I've found. I hope that you will enjoy using it just as much as I do. Give it a try and find out yourself!"
   ]
  },
  {
   "cell_type": "code",
   "execution_count": null,
   "metadata": {},
   "outputs": [],
   "source": []
  },
  {
   "cell_type": "markdown",
   "metadata": {},
   "source": [
    "### What's a SQL query?"
   ]
  },
  {
   "cell_type": "markdown",
   "metadata": {},
   "source": [
    "For example to read data from a database you use *select statements* that are also known as queries."
   ]
  },
  {
   "cell_type": "markdown",
   "metadata": {},
   "source": [
    "### What's does a SQL query look like?"
   ]
  },
  {
   "cell_type": "markdown",
   "metadata": {},
   "source": [
    "Let's go through a simple *SQL query* to see what it feels like to use it. A *query* is a piece of SQL code that you can use to get data from a database. You can use it for example to feed data into report. This particular query was used to create a map in our report showing rental prices on Airbnb.\n",
    "\n",
    "You will now see what I meant by saying that SQL is such a friendly tool. It's a declarative language, which means that you don't need to specify all the low-lewel operations to get the desired result. You just need to describe the final outcome and the database will figure out the rest for you. If you have some basic knowledge of English, you may be suprised that a simple SQL query can be nearly understandable to you.\n",
    "\n",
    "```TODO: replace queries with the new dataset```\n",
    "\n",
    "``` sql\n",
    "SELECT\n",
    "    country,\n",
    "    date,\n",
    "    daily_vaccinations\n",
    "FROM\n",
    "    covid.country_vaccinations\n",
    "WHERE\n",
    "    COUNTRY = 'United States'\n",
    "ORDER BY\n",
    "    date DESC;\n",
    "```\n",
    "\n",
    "It almost feels like a pseudocode. The cool thing is that it's an actual working query. You start with choosing or *selecting* columns that you want to use. Next, you specify which database and which table you want to get your data *from*. You only request rows *where* certain condition is met. Finally you put your results into specific *order*. You probably wouldn't be able to write it yourself but it makes an intuitive sence. We'll spend much more time learning how to build your own sql queries later in the book.\n",
    "\n",
    "You can try to execute this query inside the SQLiteStudio. Click on *Tools* in the top menu and select \"Open SQL editor\". You will see a new window where you can type some text. Copy or *even better* rewrite the SQL code inside this editor.\n",
    "\n",
    "\n",
    "> Tip: Although copying and rewriting the code will provide you with the same result, typing the code yourself can be an effective learning technique.\n",
    "\n",
    "\n",
    "To execute the query and see results you can either click on the \"play button\" or hit \"F9\" on your keyboard. Outcome will be displayed in a table below the editor. As expected, you should see information about daily vaccinations in USA sorted descending by date."
   ]
  },
  {
   "cell_type": "code",
   "execution_count": null,
   "metadata": {},
   "outputs": [],
   "source": []
  },
  {
   "cell_type": "code",
   "execution_count": null,
   "metadata": {},
   "outputs": [],
   "source": []
  },
  {
   "cell_type": "markdown",
   "metadata": {},
   "source": [
    "### What are the limitations of SQL?"
   ]
  },
  {
   "cell_type": "markdown",
   "metadata": {},
   "source": [
    "```TODO: clean this section```\n",
    "\n",
    "To be fair, like any other tool, SQL has it's own limitations as well. Here's the major one.\n",
    "\n",
    "**1. Limited by design**\n",
    "\n",
    "designed specifically to handle data, that's why it's so good with it, if you need other things, you should check out other technologies\n",
    "\n",
    "\n",
    "It's more of a feature that an issue but SQL was designed with a specific purpose in mind: manipulating data in a database. Having this assumption makes it a very friendly, logical and coherent language for this purpose. But it's fair to point out that it also imposes some limitations. If you're looking for a single tool that will manipulate the data, create some charts, save them to pdf and sent via e-mail - SQL is not a go to solution. It's a choice between versatility and accessibility. You can find tools that are more universal but they will surely have a steeper learning curve. SQL provides a great balance between the two.\n",
    "```complex statistics, ML model```"
   ]
  },
  {
   "cell_type": "markdown",
   "metadata": {},
   "source": [
    "### A short advice"
   ]
  },
  {
   "cell_type": "markdown",
   "metadata": {},
   "source": [
    "```TODO: give it a name: a short advice on learning and abstract away```\n",
    "\n",
    "While learning SQL, you might want to get as much knowledge as possible from the effort that you invest. There's a simple trick that you can use to boost your chances of success. Would you skip this opportunity?\n",
    "\n",
    "There are lots of reasons why you might want to learn a new skill. People are usually more succesfull when they have a very explicit goal in mind. So before you jump in to the book for good, take a minute or two, to think about your motivation. By motivation I mean, a specific outcome that you want to get after completing the material. When you're ready, write it down and keep it in a visible place, so you can take a look from time to time. At the very end, you'll be able to check how well you did pursuing your goal.\n",
    "\n",
    "To make this technique work even better, think for a couple of minutes about the specific actions that you can take to achieve your goal. When you're ready, write them down. The more specific you get, the better.\n",
    "\n",
    "Next, think about obstacles that may stand on your way and prevent you from taking actions that you've just described. Write down all the ideas that you have. Think about ways to overcome these obstacles and make notes. This way, you'll be prepared when they start to affect you.\n",
    "\n",
    "To better illustrate that. Your goal might be to \"start using SQL at your work\". To achieve that, you plan to \"spend 30 minutes every day reading this book\". The obstacle that can stand in your way is that \"you only have time for reading in the evening, when you're too tired\". How to overcome that? You can try to \"get up half an hour earlier and start your day with learning\".\n",
    "\n",
    ">Tip: If you're looking for ways to increase the amount of time you have for learning or other activities, I highly recommend the \"Make Time\" book by Jake Knapp and John Zeratsky. It's a great guide that will teach you how to have more time to do things that you really want to do. Check it out! ```TODO: make time book link```\n",
    "\n",
    "That's it, you're now prepared to start your learning journey effectively :rocket:\n",
    "\n",
    "> Important: If you would like to support this project and help others in their learning adventure, you can share your thoughts about goals, actions and obstacles using this link. I will use this information to think about ways of improving the content over time to help future readers achieve their goals. ```TODO: add link```"
   ]
  },
  {
   "cell_type": "markdown",
   "metadata": {},
   "source": [
    "### SQL in action - the hands on approach"
   ]
  },
  {
   "cell_type": "markdown",
   "metadata": {},
   "source": [
    "You should now have a very basic feeling about the benefits of learning SQL and hopefully some meaningful goal in mind. You will now see first-hand, how SQL can be used in practice. We will use this opportunity to clarify some concepts and prepare you for the next section, where you'll be given a chance to build similar project yourself. Buckle up!\n",
    "\n",
    "First, imagine that you are a Data Analyst at a well known, data-driven company. Your job is to transform the data into insights and help to make a good business decisions. There are plenty of ways to do it. One of them is making this data available at a fingertips of the people in your company. You can achieve that by preparing and sharing all kinds of reports.\n",
    "\n",
    "Modern companies use BI tools to address their reporting needs. A BI tool is a program designed specifically for this purpose. It allows to build reports, aka dashboards, that are automated, interactive and easy to share. An effective report prepared in a BI tool allows users to play with the data on their own. Filtering, drill down and other manipulations should be available in real time, without need to use help from a Data Analyst.\n",
    "\n",
    "Some of the most popular BI tools, like Tableau, PowerBI or Data Studio, provide access to a so-called gallery. It's a place where you can find a colletion of sample dashboards prepared by the community. I really recommend you visiting them, to get a feeling of what you may expect from a modern BI tool ([Tableau Gallery](https://public.tableau.com/en-us/gallery/?tab=viz-of-the-day&type=viz-of-the-day), [PowerBI Data Stories Gallery](https://community.powerbi.com/t5/Data-Stories-Gallery/bd-p/DataStoriesGallery), [Data Studio Report Gallery](https://datastudio.google.com/gallery)).\n",
    "\n",
    "In this book we'll use a simple dashboard to teach you about the lifecycle of exemplary analytical project built with SQL. It's a very simple report with a map that shows prices of different apartments offered for rent via Airbnb in Bergamo, Italy.\n",
    "\n",
    "```TODO URGENT: screenshot + link```\n",
    "```TODO URGENT: elaborate on the dashboard: you can see x, y; users can filter ...```\n",
    "\n",
    "You should now have a feeling how capable BI tools can be. They allow for interactivity unimaginable with traditional, static reports. A wise question to ask at this point would be, how can you actually start using such tool.\n",
    "\n",
    "The answer is that most frequently, the first step is to connect your report to the data that you want to use. That's where SQL typically comes into play. It allows you to transform the data stored in a database and import it to the tool. After that, you can use different in-built functions to create a report. Finally, you can share your report with the audience. Below you can find a diagram that captures this process.\n",
    "\n",
    "```TODO: diagram of the high-level process: database -> sql -> data import -> bi manipulations and sharing```\n",
    "\n",
    "In the next section we will discuss each of the steps in details, so you can build some understanding of these concepts. Next, you will see what actions were taken to create dashboard with Airbnb prices in Bergamo. You will also have a chance to get your hands dirty by trying to build it on your own :rocket:"
   ]
  },
  {
   "cell_type": "markdown",
   "metadata": {},
   "source": [
    "## DIY data project"
   ]
  },
  {
   "cell_type": "markdown",
   "metadata": {},
   "source": [
    "### Storing data in a database"
   ]
  },
  {
   "cell_type": "markdown",
   "metadata": {},
   "source": [
    "#### What is a database?"
   ]
  },
  {
   "cell_type": "markdown",
   "metadata": {},
   "source": [
    "Most companies store their data in some kind of a database. In the simplest words, a database in general is *an organized collection of information*. Notice, that at this point, there is no mention about computer systems or the amount of this information. The simplest database can be *really* simple. Only two components are required:\n",
    "- a piece of information and\n",
    "- some organized way to store it. \n",
    "\n",
    ">Tip: What's the simplest example of a database that comes to your mind? Think about it for two minutes before reading on.\n",
    "\n",
    "The very basic database can be as simple as a shopping list. It can store information about what you want to buy. Slightly more complex examples would be a patient card, a phone book or a home budget. If you think about it, databases are everywhere.\n",
    "\n",
    "You've probably noticed that a very basic database, like a shopping list, could be stored on something as simple as a single piece of paper. A phone book would require, well, lots of pages :sunglasses: To make it more convenient, an interactive application would be even better. For a home budget, a spreadsheet could be a wise choice. The general principle is, *the more data you have, the more advanced tool you need*.\n",
    "\n",
    "As you can imagine, data used by companies is far more complex than what an average person typically use. Even a relatively simple business like a single, brick and mortar store, needs to keep and process information about each transaction, the supplies, bank account operations, accounting and so on. And that's just a tip of an iceberg. Companies may want to add to this list a bunch of non-required information that helps to build a competitive advantage, like store visitors (curious? [see this](https://www.amazon.com/s?k=people+counter+wireless&crid=36000BFK9YI2V&sprefix=people+counter%2Caps%2C296&ref=nb_sb_ss_ts-doa-p_8_14)), promotions, marketing campaigns, loyalty programs and many more.\n",
    "\n",
    "```TODO: update the link```\n",
    "\n",
    "Obviously, a chain of thousands of stores would need to handle this information at scale, for each and every physical locations. That's even without mentioning tech companies with thousands or millions of users that track every mouse movement and every key that you hit on your keyboard. In short, the amount of information used by the companies is overwhelming. \n",
    "\n",
    "That's why being able to handle this information requires tools designed specifically with that purpose in mind. A database, in this context, would be a *piece of software developed precisely to store and manage data*. Modern databases are suitable to manage data at enterprise-level in a reliable, effective and secure way. From now on, whenever you see a word *database* in this book, that's what it means.\n",
    "\n",
    "Database ecosystem is very rich with a variety of solutions. Some of them are being developed by huge corporations and offered commercially (e.g. Oracle Database, Microsoft SQL Server). Others are community-driven and free to use (e.g. PostgreSQL, MySQL, SQLite). You can find solutions that work on-premises (you need to install them on your own computers), and cloud products that run on machines owned by a cloud provider. Finally, there is a group of more traditional, relational database systems and relatively new world of Big Data solutions.\n",
    "\n",
    "If you pick two random database products, they can be entirely different in terms of the underlying concepts (e.g. MySQL vs Hive vs sqlite). As you can image, for a single mind, it would be extremely hard to grasp all the possible variations. Fortunately, despite all the complexity, most of the solutions provide a common interface for interacting with data. And that interface is not that difficult to understand. It's mainly built of tables.\n",
    "\n",
    "```TODO: possibly a link to comparison of concepts behind MySQL vs Hive vs sqlite```"
   ]
  },
  {
   "cell_type": "markdown",
   "metadata": {},
   "source": [
    "#### A look inside a database"
   ]
  },
  {
   "cell_type": "markdown",
   "metadata": {},
   "source": [
    "That's right. If you open a database management app, you will most likely see two things:\n",
    "- a list of tables, often organized in groups (those groups are called either databases or projects, depending on the product that you use),\n",
    "- a sql editor, where you can type in your SQL code.\n",
    "\n",
    "At this point it's probably quite hard to imagine. Fortunately you can see it with our own eyes. But first, you need a database."
   ]
  },
  {
   "cell_type": "markdown",
   "metadata": {},
   "source": [
    "##### Choose a database"
   ]
  },
  {
   "cell_type": "markdown",
   "metadata": {},
   "source": [
    "Do you remember a cult movie from 1999 \"The Matrix\"? There was this very memorable scene where Neo was given a choice between two pills, the red one and the blue one. He had a one in a lifetime opportunity to decide whether he wants to go on living in lie or find out the truth.\n",
    "\n",
    "There are two remarkable ascpects of this decision. First, one of the options feels to be objectively more \"correct\". No one wants his life to be a lie. Secondly, after making this decision, there was no way back, which made it an extremely difficult choice.\n",
    "\n",
    "At this point, you also need to make a decision. As already mentioned, there are many different database solutions. This book covers a couple of them (currently two, more to come!). You need to pick one that you'll move on with. Compared to the dilemma that Neo faced, the decision that you are going to make is both easier and more difficult at the same time.\n",
    "\n",
    "It's more difficult, because there is no answer which is more \"correct\" than the others. All solutions discussed in this book are widely used. All of them have advantages and disadvantages and there is no \"the right choice\". A good side of things is that, unlike Neo, you don't need to live with this decision for the rest of your life. Quite the opposite! You can start with one tool and later on come back to try another one.\n",
    "\n",
    "We're jumping a bit ahead but it's important to realise that although most providers support SQL, there are multiple variations of this language. Providers often implement certain functionalities in their own way. In practice it means that code created to work with one database, unless very basic, would not work with another one.\n",
    "\n",
    "Thankfully, there is a standard that describes the principles of the SQL language. Providers do not implement it strictly, but conveniently it's followed to some degree. Even though we have different *SQL flavours*, which are not identical, the core principles remain the same. As a result if you learn one SQL flavour, you should be able to easily swith to a different one (probably after some googling here and there). \n",
    "\n",
    "```TODO: examples of differences will always select, from, where but to_date might be different```\n",
    "\n",
    "> Note: In this book you will be informed whenever we use a solution that is specific to a given SQL implementation.\n",
    "\n",
    "\n",
    "Here's the main takeaway for you. If you have a good reason to use one implementation over the other, start with this implementation. A good example of such reason could be knowing that you will need to use a specific SQL flavour soon. Otherwise don't spend too much time thinking about it. No matter what solution you start with, you will be able to transfer almost all of your knowledge later on.\n",
    "\n",
    "From now on we'll use SQLite to show you the process. If you want to see instructions for other databases, visit one of the links:\n",
    "- Big Query: (todo: [in progress](https://creaitive.studio/sql/2021/03/18/01_intro_big_query.html)),\n",
    "- SQLite via Python: (todo: in the backlog),\n",
    "- PostgreSQL: (todo: in the backlog).\n",
    "\n",
    "```TODO: think about a matrix comparing different solutions: e.g. easy to set up, cloud vs self-hosted, capabilities)```"
   ]
  },
  {
   "cell_type": "markdown",
   "metadata": {},
   "source": [
    "##### SQLite introduction"
   ]
  },
  {
   "cell_type": "markdown",
   "metadata": {},
   "source": [
    "In this section you'll see how to install the SQLite database. One of the reasons that SQLite is particurarly good starting point for learning is its simplicity. The entire database is contained in just one file. Setting it up is trivial. It requires hardly any installation and no configuration at all. It's free, so you can use it to the limit without worring about the costs. Developers of the SQLite estimate that it's likely the [most popular database in the entire world](https://www.sqlite.org/mostdeployed.html). They strive to keep it reliable until 2050. \n",
    "\n",
    "> Note: As for now, the book shows all the steps needed to install SQLite on Windows 10. If you're using other OS, you might want to pick [Big Query](https://creaitive.studio/sql/2021/03/18/01_intro_big_query.html) instead. Having a browser installed is the only requirement to make it work.\n",
    "\n",
    "Truth be told, SQLite is as a bit different than most of the other solutions out there. It is a fully reliable database with most of the features that you would expect from a modern solution. However it's characteristics, like storing all the data in one file, make it more suitable for:\n",
    "- smartphones and other devices,\n",
    "- websites,\n",
    "- data analytics.\n",
    "\n",
    "You may want to look for the alternative, if your project requires:\n",
    "- accessing the database from many computers at the same time,\n",
    "- simultaneous modification of the data by many users,\n",
    "- working with very large amounts of data (although it officially can handle up to 281 terabytes, having to keep it in one file is the bottleneck here).\n",
    "\n",
    "SQLite has some unusual behaviours that are distinct from what you will find anywhere else. Everytime we face such behaviour, you will be informed about it. You can also get familiar with the full list in advance using [the official documentation](https://www.sqlite.org/quirks.html).\n",
    "\n",
    "There is no single perfect solution, however features of SQLite make it an amazing candidate for learning. You will set it up in no time and achieve a great ratio of \"using SQL in practice\" vs \"struggling to setup the database\". Are you ready? Let's get it up and running :muscle:"
   ]
  },
  {
   "cell_type": "markdown",
   "metadata": {},
   "source": [
    "##### Set up a database (SQLite)"
   ]
  },
  {
   "cell_type": "markdown",
   "metadata": {},
   "source": [
    "This book provides you with two ways of creating a brand new SQLite database. The first one allows you to set up a database with just few clicks. I recommended using this approach as it's the quickest way to start workign with SQL in practice.\n",
    "\n",
    "If you prefer, you can also do it using terminal. It's the official way, described in the documentation. It does  however require some familiarity with command line interfaces. In this section, you will also see how to use this approach.\n",
    "\n",
    "It's entirely up to which which way you want to go. If you get stuck, bear in mind that there is no reason to invest too much time at this point. In the following sections it won't matter which approach you've chosen.\n",
    "\n",
    "**Install SQLiteStudio**\n",
    "\n",
    "Both approaches require having SQLiteStudio available on your computer at some point. So before we move on, let's install it first. SQLiteStudio is a program that provides a user-friendly interface to interact with SQLite. You can use it to actually *see* what's inside your database, run SQL queries, import data and many more. It's free, intuitive and very easy to start with. From this moment onwoards, it will be one of the main tools in your pocket.\n",
    "\n",
    "Few basic steps are needed to install SQLiteStudio.\n",
    "1. First, visit official [SQLiteStudio website](https://sqlitestudio.pl/) and click on the  \"Download\" button. A new zip file \"sqlitestudio-{version_number}.zip\" will be downloaded to your computer (at the moment of writing it's \"sqlitestudio-3.3.3.zip\").\n",
    "2. Unzip the file and move a new \"SQLiteStudio\" directory to the destination where you would like to permanently store it (e.g. your C:\\ drive). You can create a shortcut to \"SQLiteStudio.exe\" file for easy access e.g. from your Desktop.\n",
    "3. Open SQLiteStudio by double-clicking on the \"SQLiteStudio.exe\". \n",
    "\n",
    "> Tip: You may be shown a Windows warning about opening non-trusted application. \"SQLiteStudio\" is an open source project and all of its code is available for the public. As you can find out in the official [GitHub repo](https://github.com/pawelsalawa/sqlitestudio), it's maintained for a couple of years and many people are using it. You should be able to safely ignore the warning.\n",
    "\n",
    "**Create a new database**\n",
    "You can now create a new datbase using SQLiteStudio. Just follow the steps below. If you prefer to do it with a command line, move on to the advanced section.\n",
    "\n",
    "1. In SQLiteStudio click on the \"Database\" menu and then select \"Add a database\" option.\n",
    "2. Keep \"SQLite 3\" as a database type and click on a green icon \"Create new database file\".\n",
    "3. Remember that SQLite database is just a file? You can now specify path and name of your database file. I suggest `accomodation.db` as it's a pretty accurate description of the dataset that we will use later on.\n",
    "4. By checking the \"Permanent\" option you will make sure that you see your database each time you open the SQLiteStudio.\n",
    "5. You can \"Test connection\" before hitting \"OK\". If everything worked fine, you should be able to find a new `accomodation` database in the \"Databases\" pane on the left. Moreover, a new file should be created in the path that you've chosen before.\n",
    "\n",
    "<details><summary>Advanced: create a new database with command line</summary>\n",
    "<p>\n",
    "\n",
    "This section describes the process of creating a new database using an official way, described in the documentation. If for some reason you struggle to create a new database using this approach, it might be easier to use SQLiteStudio for this purpose. It's an alternative way of achieving the same results.\n",
    "    \n",
    "1. First visit the SQLite [Download Page](https://www.sqlite.org/download.html).Go to the \"Precompiled Binaries for Windows\" section and find the link for \"bundle of command-line tools\". Click on the link to download the .zip file.\n",
    "\n",
    "2. Unzip the downloaded file. Bacause SQLite is portable, there's no need for installation. You can already start using it.\n",
    "\n",
    "3. Open the unzipped catalog. You should see three files inside: \"sqldiff.exe\", \"sqlite3.exe\" and \"sqlite3_analyzer.exe\". Double-click on the \"sqldiff.exe\" to open it.\n",
    "\n",
    "4. You should now see a terminal where you can type in and run different SQLite commands. To create a database, you can use `.open your_path` command. You already know that SQLite database is contained in a single file. By adjusting `your_path` argument, you are able specify a path to this file. If you replace it with `./accomodation.db`, a new database will be created inside your current current directory. The full command would be `.open ./accomodation.db`.\n",
    "    \n",
    "> Tip: You can provide a full path if you want, but you will need to use \"/\" instead of \"\\\" when specifying it.\n",
    "\n",
    "5. You can double check if everything worked by going to the chosen folder and checking if you can see a new database file `./accomodation.db`. If it's there, your database was created successfully!\n",
    "\n",
    "> Tip: If you don't see a database file, try typing `.databases` insinde the SQLite terminal and check once again.\n",
    "   \n",
    "6. You can open your database using \"Add a database\" option from \"Database\" menu inside SQLiteStudio. You will need to provide a path to your file. You can keep all the other options unchanged.\n",
    "\n",
    "</p>\n",
    "</details>"
   ]
  },
  {
   "cell_type": "markdown",
   "metadata": {},
   "source": [
    "##### Import the data"
   ]
  },
  {
   "cell_type": "markdown",
   "metadata": {},
   "source": [
    "In one of the previous sections I told you that most of the database solutions share a common interface which is mainly based on tables. You've just created your first database from scratch, so you check if it's true. Right click on the `accomodation` database in the \"Databases\" pane and choose \"Connect to the database\" option from the menu. You should now see two icons: \"Tables\" and \"Views\". At this point there is nothing you can actually do. Your database is empty. To start seeing some data, you need to import it first.\n",
    "\n",
    "A common theme for all analytical projects is that you can't do analytics without data. How you actually get it, depends on the project. When you work for established company, you will most likely find the crucial datasets inside it's own, internal database. That's quite convenient as you don't have to prepare and upload the data yourself. However, eventually you may stumble upon limitations of the data at your disposal. You may also want to work on your personal project, where you start with no data at all. In such cases, you will need to import the datasets yourself.\n",
    "\n",
    "On a high level, the process looks a follows. First, you need to find your dataset. Next, you need to download it. The final step is to import it to the database where you can process it with SQL.\n",
    "\n",
    "**Find your dataset**\n",
    "\n",
    "Ability to explore and use publically available datasets can be a very useful skill. There's no golden rule, but if you're looking for a specific dataset, you might want to check out sites like [Kaggle](https://www.kaggle.com/datasets), [this repo](https://github.com/awesomedata/awesome-public-datasets), [Dataset Search by Google](https://datasetsearch.research.google.com/) or [this subreddit](https://www.reddit.com/r/datasets/).\n",
    "\n",
    "In our example, we already know what data will be used. It's a dataset with information about rental prices of different apartments offered via Airbnb in Bergamo, Italy. You can find this dataset on the [Inside Airbnb website](http://insideairbnb.com/get-the-data.html). If you scroll down, you will find downloadable files with data for different cities in the world. For each city, you can get information about availibility, prices, ratings, aproximate location, amenities and many more. The coolest thing is that the data is refreshed each month, so it roughly reflects the current situation on Airbnb. If you want to learn more about Inside Airbnb and why this data was provided in the first place, make sure to visit the \"About\" page.\n",
    "\n",
    "You can now download the data and upload it to the database, just follow the instructions below.\n",
    "1. Scroll down to find Bergamo on the list. Download three files: \"listings.csv.gz\", \"calendar.csv.gz\" and \"reviews.csv.gz\".\n",
    "2. Uncompress the files using dedicated program (7-Zip is a good one available for free). You should now see three .csv files on you computer.\n",
    "3. Open SQLiteStudio and right click on the database name in the \"Databases\" pane or click on the \"Tools\" menu and select the \"Import\" option.\n",
    "\n",
    "> Tip: \"Import\" option will not be available if you haven't connected to the database as described at the very beginning of this section (right click on the name of the database and \"Connect to the database\").\n",
    "\n",
    "4. You will be asked to provide database name and table name. Let's start with \"calendar.csv\" file. Select `accomodation` database as it's the only one created so far. You can choose whatever name you want for your table but I'd suggest keeping it simple and aligned with the names of the files (\"calendar\", \"listings\" and \"reviews\" respecitvely). Type in the \"calendar\" and click on the \"Next\" button.\n",
    "\n",
    "> Tip: A good rule of thumb for the SQL development and other areas as well is to not make things more complicated than it's absolutely necessary. We could try to come up with better names for the tables, but having them aligned with the original files has the benefit of being an obvious solution. Imagine having not three but fifty tables and trying to figure out which file is the source of a given table if the naming is not aligned.\n",
    "\n",
    "5. You are now asked to specify a couple of options:\n",
    "    - data source type - the format of input file that you're using, \"CSV\" in our case;\n",
    "    - input file - path to the file with the data;\n",
    "    - text encoding - you can use default system encoding;\n",
    "    - ignore errors - whether you want to stop the import in case of any errors, make sure to leave it unchecked;\n",
    "    - first line represents CSV column names - whether the first row in your file represents column names;\n",
    "    - field separator - character that is used to separate columns in your file, comma in our case;\n",
    "    - null values - we'll explore this option later in the book, for now you can leave it unchecked.\n",
    "    \n",
    "    ```TODO: null values - explain somewhere in the book```\n",
    "\n",
    "    To make proper selection for some options, you need to know how your csv file is built. You can do it quite easily. Under the hood a .csv file is just a text document representing a table of data. Each new line represents a new row. Columns are separated with some character. Comma is the most popular choice, hence the name .csv (\"comma-separated values\"). You can also come across other separators, like semicolon (\";\") or tab (\"\\t\").\n",
    "\n",
    "    ```TODO: some picture to make it more understandable - example calendar.csv```\n",
    "\n",
    "    > Tip: Technically the .csv file extension is not perfect fit if comma is not used as a separator. However, you'll often see that people use it anyway, even if the separator is different. As it's still just a text file, it will work fine. You may also stumble upon a \"tsv\" file. It's a specific name for a file that uses tabs as separators. In most of the tools you should be able to import it using \"import csv\" option and selecting tab or \"\\t\" as your delimiter.\n",
    "\n",
    "    To check if the first line of \"calendar.csv\" file contains header, open it using any text editor. Notepad is the simplest option. Next, check content of the first line of your file. You will see values similar to: \"listing_id\", \"date\", \"available\", \"price\", etc. which definitely look like a column names. When importing this file, make sure to check \"first line represents CSV column names\" option in SQLiteStudio.\n",
    "\n",
    "    Last but not least, field separator. Looking at couple of the first rows, you can clearly see that values are separated with commas, e.g.:\n",
    "        - row 1: listing_id**,**date**,**available**,**price**,**adjusted_price**,**minimum_nights**,**maximum_nights;\n",
    "        - row 2: 15526**,**2021-03-30**,**f**,**\\$95.00**,**$95.00**,**2**,**1125.\n",
    "\n",
    "    Make sure to select \", (comma)\" as a field separator.\n",
    "\n",
    "6. Click \"Finish\" to complete the process. After a short moment, you will see a new table in your database :champagne::champagne::champagne:\n",
    "7. Try to repeat the process for two remaining files: listings.csv and reviews.csv. In the end you should have three tables in your database \"calendar\", \"listings\" and \"reviews\".\n",
    "\n",
    "Congratulations, you've just completed the first step to get your data project up and running! As you may notice, it's a very simple dataset with just three tables of data. We'll switch to more complex datasets later in the book."
   ]
  },
  {
   "cell_type": "markdown",
   "metadata": {},
   "source": [
    "##### See the big picture"
   ]
  },
  {
   "cell_type": "markdown",
   "metadata": {},
   "source": [
    "Even though very simple, we can treat our database as an approximation of an actual, analytical database. Don't get me wrong. Enterprise-grade solutions in real companies are obviously much more complex. They consist of multiple subject-specific databases (a.k.a projects) with dozens of tables, many of them being much bigger than ours. However, there are some commonalities from the user perspective. If you take a look inside, no matter if it's an actual business database or a dummy example, you will most likely see a common structure where tables are the main building block.\n",
    "\n",
    "```TODO: we can link here an info about analytical vs transactional db```\n",
    "\n",
    "Tables are generally used to store data about objects that are essential for the organization. Which objects are important depends of course on the type of organization. The area of interest will be completely different for online store and university. Whereas things like transactions, page views, marketing campaigns and goods in stock will be the most important for the first one, the academic institution will rather focus on students, teachers, courses, class rooms, grades and everything around that.\n",
    "\n",
    "```TODO: show two sample schemas of db, shortly explain them: below you can see schemas of two db, boxes represent ... /  or just a list of tables```\n",
    "\n",
    "You can expect that table related to a given object will have the most important information about it. Taking \"transactions\" table as an example, it should allow you to identify each transaction and find out when it happened, what exactly was sold, at what price, who bought it, etc. You will work with different tables throughout this book, which will give you a good idea of what you can expect to find inside them.\n",
    "\n",
    "```TODO: diagram with schema of a table: transactions (rows and columns)```\n",
    "\n",
    "Each table in a database is composed of two main elements, rows and columns. Columns are used to represent features describing objects stored in a table. Using our example of \"transactions\" table, it's likely to have following columns: \"transaction_id\", \"transaction_date\", \"transaction_item\", \"price\" and \"buyer_id\".\n",
    "\n",
    "```TODO: a look inside an actual table - with columns highlighted```\n",
    "```TODO: tip: names of the tables and \"_\"```\n",
    "\n",
    "Rows on the other hand, most commonly, represent objects stored in a table. For example a \"transaction\" table could have a separate row for each transaction while an \"employees\" table would keep a separate line for each employee. Each course tought at university, would have it's own record too. You get the idea :wink: \n",
    "\n",
    "```TODO: a look inside an actual table - with rows highlighted```\n",
    "\n",
    "You should now have a fairly good understanding of what a table is. That's crucial because earlier in the book we've said that the interface that you will use is mostly built of tables. I hope that you now have a feeling of what it means. If you think about it, a database looks a lot like a collection of tables. Having this model in mind will help you a lot when learning SQL. If you don't see it yet, don't worry, it will click. You can try going over this section once again or looking at some sample dummy databases online ([this is](https://relational.fit.cvut.cz/) a good place to start).\n",
    "\n",
    "> Tip: It's fair to stress that choice of words is not a coincidence here. A database *looks like* a collection of tables. There is of course a lot of complexity hidden from our eyes. Once again, even though that's a simplification, it's one worth having as it makes working with SQL much more intuitive and convenient.\n",
    "\n",
    "To close this subject it's worth to note that one organization is likely to use multiple databases at the same time. Companies are built of numerous domains, like: sales, operations, finance, marketing, HR, etc. These domains are likely to be managed by different teams and to be supported by different IT systems. In such cases it often makes sense to split the data into several theme-oriented databases.\n",
    "\n",
    "```TODO: hierarchy schema: multiple databases, database, table, row/column (maybe sack analogy)```\n",
    "\n",
    "The goal of this section was to prepare you to work with the database that you've just created. The next step is to see the concepts that we've just discussed in practice using our `accommodation` database. At this point, SQL is needed to achieve that."
   ]
  },
  {
   "cell_type": "markdown",
   "metadata": {},
   "source": [
    "### Bacis interactions with data using SQL"
   ]
  },
  {
   "cell_type": "markdown",
   "metadata": {},
   "source": [
    "#### Running the query"
   ]
  },
  {
   "cell_type": "markdown",
   "metadata": {},
   "source": [
    "```TODO: maybe simple how to see what's inside?```"
   ]
  },
  {
   "cell_type": "markdown",
   "metadata": {},
   "source": [
    "At this point, you understand that although there are many different database solutions, they very often share a similar interface, mainly built of tables. You can see it by opening and browsing through your database management app. Another interface that is common for most of the database systems is *SQL*.\n",
    "\n",
    "SQL is a language that allows you to interact with a data inside a database. You can use it to do all kinds of manipulations, like: aggregations, custom calculations, filtering, sorting and so on. Let's go through a simple *SQL query* to see how it feels to use it. A *query* is a piece of SQL code that you can use to get data from a database. You can use it for example to feed data into report. This particular query was used to create a map in our report showing rental prices on Airbnb.\n",
    "\n",
    "You will now see what I meant by saying that SQL is such a friendly tool. It's a declarative language, which means that you don't need to specify all the low-lewel operations to get the desired result. You just need to describe the final outcome and the database will figure out the rest for you. If you have some basic knowledge of English, you may be suprised that a simple SQL query can be nearly understandable to you.\n",
    "\n",
    "```TODO: replace queries with the new dataset```\n",
    "\n",
    "``` sql\n",
    "SELECT\n",
    "    country,\n",
    "    date,\n",
    "    daily_vaccinations\n",
    "FROM\n",
    "    covid.country_vaccinations\n",
    "WHERE\n",
    "    COUNTRY = 'United States'\n",
    "ORDER BY\n",
    "    date DESC;\n",
    "```\n",
    "\n",
    "It almost feels like a pseudocode. The cool thing is that it's an actual working query. You start with choosing or *selecting* columns that you want to use. Next, you specify which database and which table you want to get your data *from*. You only request rows *where* certain condition is met. Finally you put your results into specific *order*. You probably wouldn't be able to write it yourself but it makes an intuitive sence. We'll spend much more time learning how to build your own sql queries later in the book.\n",
    "\n",
    "You can try to execute this query inside the SQLiteStudio. Click on *Tools* in the top menu and select \"Open SQL editor\". You will see a new window where you can type some text. Copy or *even better* rewrite the SQL code inside this editor.\n",
    "\n",
    "\n",
    "> Tip: Although copying and rewriting the code will provide you with the same result, typing the code yourself can be an effective learning technique.\n",
    "\n",
    "\n",
    "To execute the query and see results you can either click on the \"play button\" or hit \"F9\" on your keyboard. Outcome will be displayed in a table below the editor. As expected, you should see information about daily vaccinations in USA sorted descending by date."
   ]
  },
  {
   "cell_type": "markdown",
   "metadata": {},
   "source": [
    "```TODO: consider intro to creating SQL queries here already - but I'm a bit reluctant (maybe very basic: if you want to use diff table change this, if you want to change columns, change that)```"
   ]
  },
  {
   "cell_type": "markdown",
   "metadata": {},
   "source": [
    "one of the tables that we have is called ... you could expect that it has information about xyz"
   ]
  },
  {
   "cell_type": "markdown",
   "metadata": {},
   "source": [
    "### Importing data to the BI tool"
   ]
  },
  {
   "cell_type": "markdown",
   "metadata": {},
   "source": [
    "### Creating and sharing the report"
   ]
  },
  {
   "cell_type": "code",
   "execution_count": null,
   "metadata": {},
   "outputs": [],
   "source": []
  },
  {
   "cell_type": "code",
   "execution_count": null,
   "metadata": {},
   "outputs": [],
   "source": []
  },
  {
   "cell_type": "code",
   "execution_count": null,
   "metadata": {},
   "outputs": [],
   "source": []
  },
  {
   "cell_type": "markdown",
   "metadata": {},
   "source": []
  },
  {
   "cell_type": "markdown",
   "metadata": {},
   "source": []
  },
  {
   "cell_type": "markdown",
   "metadata": {},
   "source": [
    "#### Formatting the query"
   ]
  },
  {
   "cell_type": "markdown",
   "metadata": {},
   "source": [
    "If this is the first time you use SQL code, you'll probably start to have questions.\n",
    "- Does capitalization matter?\n",
    "- Do I need to keep split the code into lines in the same way?\n",
    "- Will it work if I don't indent?\n",
    "- Is semicolon at the end required?\n",
    "\n",
    "Before I give you answers, let me emphasize how cool it is to write code. In real or \"physical\" life, if you try some approach that doesn't work, most often than not, you break something. Usually it's painful because you need to either fix or replace whatever is broken. Writing code is a completely different world. Very often the worst thing that can happen is seeing an error. It's almost like you are in a wonderland where you can push your imagination to the limits withouth caring too much about consequences. Of course if you push to hard, you are capable of causing some damage but I can assure you that it won't happen while writing basic SQL queries. Having say that, I'd strongly recommend you pausing here for a moment an testing yourself what can happen if you violate any of the assumptions from the list above.\n",
    "\n",
    "```TODO: some graphic to avoid spoilers?```\n",
    "\n",
    "Ready to find out the answer? Try using the code below and see what happens.\n",
    "\n",
    "``` sql\n",
    "select country, date, daily_vaccinations from covid.country_vaccinations where country = 'United States' order by date desc;\n",
    "```\n",
    "\n",
    "Good news is that nothing exploded. Even better news is that it works exactly the same as the previous version. If it doesn't matter why bother splitting the code or making indentations? In short, all those things do not matter for the *computer*. The thing is that we're not computers. It's much more easy and predictable to read, modify and work with the query if it's nicely formatted. Especially if it's a long and a complex one. You can already notice the difference in the simple example above. Imagine having not ten but a hundred lines of code that you need to update.\n",
    "\n",
    "Your future self will probably not thank you if you take a good care about formatting. But you can be sure that it will curse if you don't. That's why this book follows a couple of simple principles when formatting code.\n",
    "\n",
    "1. Create a new line for each main keyword (*SELECT, FROM, WHERE, ORDER BY*), column, where condition, expression.\n",
    "2. Indent everything between main keywords.\n",
    "3. Use semicolon to split many queries written one after the other (it makes your editor aware that these are separate pieces of code).\n",
    "4. Capitalize keywords (that's my latest principle that I'm least strict about).\n",
    "\n",
    "This is a set of principles that I've worked out using SQL for years. They tend to work very well for me. It's not fully comprehensive list and definitely not written in stone. As fair as I know, there is no one standard that everyone should follow. Feel free to experiment and modify the assumptions above to craft your own formatting style. As long as you keep your future self and your colleagues in mind, you should be fine."
   ]
  },
  {
   "cell_type": "markdown",
   "metadata": {},
   "source": [
    "### Share your work"
   ]
  },
  {
   "cell_type": "markdown",
   "metadata": {},
   "source": [
    "```TODO: adjust to the context already given```\n",
    "\n",
    "When you have your data prepared, it's time to share it with your audience. You can do it in many different ways. One of the most effective ones is creating an interactive dashboard. In the next section you'll see how to set up a bi tool on your machine to start working on the first vizualizations. This section is not strictly related with the SQL language itself so you might be tempted to skip it over. Having in mind that presenting the data is one of the most important parts of the data project, I'd recommend at least taking a quick look. This way you'll build a high-level understanding of the process."
   ]
  },
  {
   "cell_type": "markdown",
   "metadata": {},
   "source": [
    "#### Install a BI tool"
   ]
  },
  {
   "cell_type": "markdown",
   "metadata": {},
   "source": [
    "```TODO: adjust to the context already given```\n",
    "```TODO: maybe less details for obvious instructoins```"
   ]
  },
  {
   "cell_type": "markdown",
   "metadata": {},
   "source": [
    "There are plenty of great BI tools on the market. They differ in features, pricing models and ease of use. We won't compare them here as this river is vastly too deep to go into. Instead, we'll use one tool, PowerBi in our case. It's very robust, popular and fast developing. In short, it's a tool that's worth knowing in general. Plus it's free to install on your computer, although buying a commercial license is required to share your work with others.\n",
    "\n",
    "You can install PowerBi from the official [Microsoft website](https://www.microsoft.com/en-us/download/details.aspx?id=58494). Click the \"Download\" button and follow the instruction.\n",
    "\n",
    "After succesfull installation, you should be able to open PowerBI Desktop. You'll see some prompts that will help you to log in or buy a licencse if you need one. You can ignore them at the moment to go to the main interface of the tool.\n",
    "\n",
    "```TODO: screenshot: prompt```\n",
    "```TODO: screenshot: you should see similar interface```\n",
    "\n",
    "If you select \"Get data\" from the \"Home\" menu, you'll see that PowerBI works with many different data sources out of the box, without further configuration required.\n",
    "\n",
    "```TODO: screenshot```\n",
    "\n",
    "Unfortunately, SQLite is an exception in this case. To make the two applications talk to each other, you need to install additional driver that you can find [here](http://www.ch-werner.de/sqliteodbc/). Depending on whether you'are on 32 or 64-bit version of windows, choose either \"sqliteodbc.exe\" or \"sqliteodbc_w64.exe\". After successfull installation, you'll be able to connect your PowerBI Desktop app to the SQLite database prepared in the previous step."
   ]
  },
  {
   "cell_type": "markdown",
   "metadata": {},
   "source": [
    "#### Connect BI tool to the database"
   ]
  },
  {
   "cell_type": "markdown",
   "metadata": {},
   "source": [
    "There's one step that will make your life much easier you take care about it right know. You can define a DSN (data source name) that you'll be able to reuse in the future. This way you'll avoid providing a configuration each time you want to connect to your database.\n",
    "\n",
    "To achieve that, open windows start menu and search for \"ODBC Data Sources\" (32- or 64-bit depending on your system). Open it and click on the \"Add\" button. After successful installation in the previous step, you should be able to see \"SQLite3 ODBC Driver\" option. Select it and click \"Finish\". You'll see a window where you need to provide two kinds of information: Data Source Name and Database Name. Data Source Name is just a name that you can define for your data source. You can choose whatever you want, I'd suggest using \"covid\" if you want to be aligned with the book. In Database Name you need to provide a path to your database. You can find the file using \"Browse...\" button or provide it on your own. Confirm your choices by clicking \"Ok\" button and you're good to go.\n",
    "\n",
    "Open your PowerBI Desktop app. To make the connection, go to the \"Home\" menu and click on the \"Get data\" icon. Choose \"more...\" to open a new window where you'll be able to find \"ODBC\" option. After selecting it, click on the \"Connect\" button. You should be able to see the name of data source that you've just defined. Select it and expand \"Advanced options\".\n",
    "\n",
    "In the SQL statement box, you can use a custom sql to extract the data. If you don't specify it, you'll be able to use the entire table. That's good for our small, example dataset. Probably not very good for big, productional data sources. Let's use the query from the previous sections. Because we are connecting specifically to the `covid` db, we need to remove `covid.` prefix in the `from` clause.\n",
    "\n",
    "``` sql\n",
    "SELECT\n",
    "    country,\n",
    "    date,\n",
    "    daily_vaccinations\n",
    "FROM\n",
    "    country_vaccinations\n",
    "WHERE\n",
    "    COUNTRY = 'United States'\n",
    "ORDER BY\n",
    "    date DESC;\n",
    "```\n",
    "\n",
    "To complete the process, paste the above query and hit \"Ok\". Make sure that you understand how it differs from the version used in SQLiteStudio. When asked about password, switch to the \"Default or Custom\" option in the menu, leave all the field blank and continue. If everything went right, you'll see a table with sample data. Click \"Load\" to import it to PowerBI. After the whole process you will see your data import in the \"Fields\" menu."
   ]
  },
  {
   "cell_type": "markdown",
   "metadata": {},
   "source": [
    "#### Prepare your first dashboard"
   ]
  },
  {
   "cell_type": "markdown",
   "metadata": {},
   "source": [
    "The last step is to start working on your dashboard. PowerBi allows you to create all kinds of visualizations, like: tables, charts, maps or even animations. In this book we won't focus too much on the PowerBI itself. We'll just create a basic chart to complete our mini data project and see the big picture. Feel free to play around with different kinds of visualizations if you want. You can try to re-create a dashboard that I've shown you at the very beginning.\n",
    "\n",
    "```TODO: recommend some resource about PowerBI```\n",
    "```TODO: instruction to re-create my dashboard (video??)```\n",
    "```TODO: one more sql to create a map??```\n",
    "\n",
    "If you have your PowerBI open, you can go to the \"Fields\" menu, right-click on your query and \"Edit query\". If you do so, you'll see that all of our columns are of the \"string\" type. That's not what we want, as we'd like PowerBI to be able to e.g. sum numeric values or understand the dates properly. You can change it directly in PowerBI by clicking on the data type icon and choosing a proper option.\n",
    "```TODO: it's a good moment to start talking about data types```\n",
    "\n",
    "The last step is to create a chart itself. In our case we'll prepare a very basic table. Select a table icon from the \"Visualizations\" pane and and check \"daily_vaccinations\" and \"date\" fields from your data source. PowerBI will place them on a table for you."
   ]
  },
  {
   "cell_type": "markdown",
   "metadata": {},
   "source": [
    "That's it, you've just created you first end-to-end data project :rocket: You've set up a database, imported your data, run a sql query and prepared a first visualization. You can be proud of yourself :cocktail: In the next sections we'll dive deeper in particular parts of the flow. We'll focus of course on the sql query preparation."
   ]
  },
  {
   "cell_type": "markdown",
   "metadata": {},
   "source": [
    "## Teach others"
   ]
  },
  {
   "cell_type": "markdown",
   "metadata": {},
   "source": [
    "Ever heard of the \"see one, do one, teach one\" method? It's used to increase the amount of information that you retain while learning. It's especially common in the medical training. As you only retain 10% of what you read and 20% of what you hear, we're looking for a ways to use your time in a more effective way.\n",
    "\n",
    "```TODO: remove poor jokes```\n",
    "\n",
    "You might have not noticed but you've just been guided to complete the two first steps of the process. You've **seen** an example of a data product and you've **done** it yourself. So the last step is to teach others about what you've just learned. You can try explaining it to someone close to you. Don't worry, I'm a realist. I'm aware that chances are you either:\n",
    "a) do not have such person available at hand,\n",
    "b) you have such person but you want to keep it that way, so you prefer to avoid forcing that person to listen about coding.\n",
    "\n",
    "Fair enough. Fortunately, there are plenty of people who could actualy use your help already at this point. I've set up a space where you can see questions related to the material covered in this section. Do your best to answer them and publish your answers so other people can see them. Others can upvote your answer if they find it helpful. You can do the same with other responses. To ensure that you get as much as possible from the time that you've already invested into the learning process, I'd really encourage you to spend some time to:\n",
    "- publish your own response without peeking at the answers already provided,\n",
    "- take a look at the responses provided by others, to verify your understanding.\n",
    "\n",
    "```TODO: set up this space```\n",
    "```TODO: provide a link to this space```\n",
    "```TODO: list of questions```\n",
    "\n",
    "Now that you have high level understanding of the process and SQL in general, we can move on to the second part. In that section we'll dive deep into specific concepts to make your more comfortable creating your own queries."
   ]
  }
 ],
 "metadata": {
  "kernelspec": {
   "display_name": "Python 3",
   "language": "python",
   "name": "python3"
  },
  "language_info": {
   "codemirror_mode": {
    "name": "ipython",
    "version": 3
   },
   "file_extension": ".py",
   "mimetype": "text/x-python",
   "name": "python",
   "nbconvert_exporter": "python",
   "pygments_lexer": "ipython3",
   "version": "3.8.5"
  },
  "varInspector": {
   "cols": {
    "lenName": 16,
    "lenType": 16,
    "lenVar": 40
   },
   "kernels_config": {
    "python": {
     "delete_cmd_postfix": "",
     "delete_cmd_prefix": "del ",
     "library": "var_list.py",
     "varRefreshCmd": "print(var_dic_list())"
    },
    "r": {
     "delete_cmd_postfix": ") ",
     "delete_cmd_prefix": "rm(",
     "library": "var_list.r",
     "varRefreshCmd": "cat(var_dic_list()) "
    }
   },
   "types_to_exclude": [
    "module",
    "function",
    "builtin_function_or_method",
    "instance",
    "_Feature"
   ],
   "window_display": false
  }
 },
 "nbformat": 4,
 "nbformat_minor": 4
}
