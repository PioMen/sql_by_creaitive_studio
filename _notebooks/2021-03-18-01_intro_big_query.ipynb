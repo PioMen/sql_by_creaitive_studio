{
 "cells": [
  {
   "cell_type": "markdown",
   "metadata": {},
   "source": [
    "# \"SQL is fun!: Big Query\"\n",
    "> \"A dive into a friendly world of SQL.\"\n",
    "\n",
    "- toc: true \n",
    "- badges: false\n",
    "- comments: false\n",
    "- categories: [sql] \n",
    "- image: images/chart-preview.png"
   ]
  },
  {
   "cell_type": "markdown",
   "metadata": {},
   "source": [
    "## SQL in action"
   ]
  },
  {
   "cell_type": "markdown",
   "metadata": {},
   "source": [
    "```TODO: use case demo + some intro```"
   ]
  },
  {
   "cell_type": "markdown",
   "metadata": {},
   "source": [
    "## Building your first end-to-end project"
   ]
  },
  {
   "cell_type": "markdown",
   "metadata": {},
   "source": [
    "Now that you saw an example of data project using SQL, you'll see how to build such project yourself."
   ]
  },
  {
   "cell_type": "markdown",
   "metadata": {},
   "source": [
    "### Download the data"
   ]
  },
  {
   "cell_type": "markdown",
   "metadata": {},
   "source": [
    "You can't do analytics without data. How you actually get it, depends on your project. When working on a business project, you may find the crucial datasets in a database of your company. That's quite convenient as you don't have to prepare and upload the data yourself.\n",
    "\n",
    "Eventually you may stumble upon a limitations of the data at your disposal. Or you may want to work on your personal project, where you need to create your dataset from scratch. In such cases, ability to explore and use publically available datasets can be a very useful skill. There's no golden rule, but you might want to check sites like [Kaggle](https://www.kaggle.com/datasets), [this repo](https://github.com/awesomedata/awesome-public-datasets), [Dataset Search by Google](https://datasetsearch.research.google.com/) or [this subreddit](https://www.reddit.com/r/datasets/) looking for the right data for you.\n",
    "\n",
    "In our example, we'll use the data on COVID-19 vaccinations shared by Our World in Data. You can find it in [this repo](https://github.com/owid/covid-19-data/tree/master/public/data/vaccinations). To download the data, follow the steps:\n",
    "- visit [this link](https://github.com/owid/covid-19-data/blob/master/public/data/vaccinations/vaccinations.csv),\n",
    "- click on the little `Raw` button in the upper right corner,\n",
    "- when you see a comma delimited text right-click on top of it and select `Save as..` option to save the file on your computer.\n",
    "```TODO: screnshoots to bullets above?```\n",
    "```TODO: you might be wondering if there is a better way to download this file, clone repo? curl?```\n",
    "\n",
    "Congratulations, you've just completed the first step to get your data project up and running!"
   ]
  },
  {
   "cell_type": "markdown",
   "metadata": {},
   "source": [
    "### Install the database"
   ]
  },
  {
   "cell_type": "markdown",
   "metadata": {},
   "source": [
    "Do you remember the cult movie from 1999 \"The Matrix\"? There was this very memorable scene where Neo was given a choice between two pills, the red one and the blue one. He had a one in a lifetime opportunity to decide whether he wants to go on living in lie or find out the truth.\n",
    "\n",
    "There are two remarkable ascpects of this decision. First, one of the options feels to be objectively more \"correct\". No one wants his life to be a lie. Secondly, after making this decision, there was no way back, which made it an extremely difficult choice.\n",
    "\n",
    "At this point of the book, you also need to make a decision. There are many different database solutions and many different SQL flavours. This book covers couple of them, so you need to pick the one that you'll move on with. Compared to the dilemma that Neo faced, the decision that you are going to make is both easier and more difficult at the same time.\n",
    "\n",
    "It's more difficult, because there is no answer which is more \"correct\" than the others. All solutions discussed in this book are widely used. All of them have advantages and disadvantages and there is no \"the right choice\". Fortunately, unlike the Neo, you don't need to live with this decision for the rest of your life. Quite the opposite! You can start with one tool and later on come back to try another one.\n",
    "\n",
    "It gets even better than that. There is a standard that describes the principles of the SQL language. It means that even if you learn one implementation of the SQL (e.g. SQLite) and want to switch to another one (e.g. PostgreSQL), you should be able to transfer most of your knowledge. To be clear, it doesn't mean that each vendor implements the language in an identical way. They try to follow the standard to some degree but there are some differences. Those discrepancie however are reasonable enough to make your knowledge universal most of the time.\n",
    "\n",
    "sql lite default\n",
    "\n",
    "```TODO: matrix/table showing prons/cons of starting with each of the solutions```"
   ]
  },
  {
   "cell_type": "markdown",
   "metadata": {},
   "source": [
    "### Interact with your database"
   ]
  },
  {
   "cell_type": "markdown",
   "metadata": {},
   "source": [
    "### Import the data"
   ]
  },
  {
   "cell_type": "markdown",
   "metadata": {},
   "source": [
    "### Run your first SQL query"
   ]
  },
  {
   "cell_type": "markdown",
   "metadata": {},
   "source": [
    "Now we'll go through the *SQL query* that was used to prepare the data for our report. A *query* is a piece of SQL code that you use to get the data from the database. You can also use it to do all kinds of manipulations, like: aggregations, custom calculations, filtering, sorting and so on.\n",
    "\n",
    "One of the reasons that I'm such a huge fan of the SQL is its friendliness. SQL is a declarative language. It means that you don't need to specify all the low-lewel operations to get the desired result. You just need to describe the final outcome and the database will figure out the rest for you.\n",
    "\n",
    "```TODO: diagram to illustrate the point above```\n",
    "\n",
    "If you have some basic knowledge of English, you may be suprised that a simple SQL query can be nearly understandable to you.\n",
    "\n",
    "```TODO: simple SQL```\n",
    "\n",
    "It almost feels like a pseudocode. The cool thing is that it's an actual working query.\n",
    "\n",
    "```TODO: explain the meaning of select, from etc.```\n",
    "\n",
    "Let's see what happens when you run this code.\n",
    "\n",
    "```TODO: run code and show results from db```\n",
    "You can now try to execute this query inside the database managament app of your choice."
   ]
  },
  {
   "cell_type": "markdown",
   "metadata": {},
   "source": [
    "### Visualize your insights"
   ]
  },
  {
   "cell_type": "code",
   "execution_count": null,
   "metadata": {},
   "outputs": [],
   "source": []
  }
 ],
 "metadata": {
  "kernelspec": {
   "display_name": "Python 3",
   "language": "python",
   "name": "python3"
  },
  "language_info": {
   "codemirror_mode": {
    "name": "ipython",
    "version": 3
   },
   "file_extension": ".py",
   "mimetype": "text/x-python",
   "name": "python",
   "nbconvert_exporter": "python",
   "pygments_lexer": "ipython3",
   "version": "3.8.5"
  },
  "varInspector": {
   "cols": {
    "lenName": 16,
    "lenType": 16,
    "lenVar": 40
   },
   "kernels_config": {
    "python": {
     "delete_cmd_postfix": "",
     "delete_cmd_prefix": "del ",
     "library": "var_list.py",
     "varRefreshCmd": "print(var_dic_list())"
    },
    "r": {
     "delete_cmd_postfix": ") ",
     "delete_cmd_prefix": "rm(",
     "library": "var_list.r",
     "varRefreshCmd": "cat(var_dic_list()) "
    }
   },
   "types_to_exclude": [
    "module",
    "function",
    "builtin_function_or_method",
    "instance",
    "_Feature"
   ],
   "window_display": false
  }
 },
 "nbformat": 4,
 "nbformat_minor": 4
}
